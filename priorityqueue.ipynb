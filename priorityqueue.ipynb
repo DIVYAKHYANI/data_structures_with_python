{
 "cells": [
  {
   "cell_type": "code",
   "execution_count": 1,
   "metadata": {},
   "outputs": [],
   "source": [
    "#using heapq\n",
    "import heapq"
   ]
  },
  {
   "cell_type": "code",
   "execution_count": 2,
   "metadata": {},
   "outputs": [],
   "source": [
    "q=[]\n"
   ]
  },
  {
   "cell_type": "code",
   "execution_count": 3,
   "metadata": {},
   "outputs": [],
   "source": [
    "heapq.heappush(q, (2,'whatsaap'))"
   ]
  },
  {
   "cell_type": "code",
   "execution_count": 4,
   "metadata": {},
   "outputs": [],
   "source": [
    "heapq.heappush(q, (0,'facebook'))"
   ]
  },
  {
   "cell_type": "code",
   "execution_count": 5,
   "metadata": {},
   "outputs": [],
   "source": [
    "heapq.heappush(q, (1,'twitter'))"
   ]
  },
  {
   "cell_type": "code",
   "execution_count": 6,
   "metadata": {},
   "outputs": [],
   "source": [
    "heapq.heappush(q, (3,'linkedin'))"
   ]
  },
  {
   "cell_type": "code",
   "execution_count": 7,
   "metadata": {},
   "outputs": [
    {
     "name": "stdout",
     "output_type": "stream",
     "text": [
      "(0, 'facebook')\n",
      "(1, 'twitter')\n",
      "(2, 'whatsaap')\n",
      "(3, 'linkedin')\n"
     ]
    }
   ],
   "source": [
    "while q:\n",
    "    next_item=heapq.heappop(q)\n",
    "    print(next_item)"
   ]
  },
  {
   "cell_type": "code",
   "execution_count": 8,
   "metadata": {},
   "outputs": [],
   "source": [
    "#PRIORITY QUEUES IN PYTHON (NORAML WAY)"
   ]
  },
  {
   "cell_type": "code",
   "execution_count": 9,
   "metadata": {},
   "outputs": [],
   "source": [
    "def heapify(arr, n, i):\n",
    "    largest=i\n",
    "    l=2*i+1\n",
    "    r=2*i+2\n",
    "    if l<n and arr[i]<arr[l]:\n",
    "        largest=l\n",
    "    if r<n and arr[largest]<arr[r]:\n",
    "        largest=r\n",
    "    if largest != i:\n",
    "        arr[i],arr[largest]=arr[largest],arr[i]\n",
    "        heapify(arr, n, largest)"
   ]
  },
  {
   "cell_type": "code",
   "execution_count": 10,
   "metadata": {},
   "outputs": [],
   "source": [
    "def insert(array,newNum):\n",
    "    size=len(array)\n",
    "    if size==0:\n",
    "        array.append(newNum)\n",
    "    else:\n",
    "        array.append(newNum)\n",
    "        for i in range((size//2)-1,-1,-1):\n",
    "            heapify(array,size,i)"
   ]
  },
  {
   "cell_type": "code",
   "execution_count": 12,
   "metadata": {},
   "outputs": [],
   "source": [
    "def deleteNode(array, num):\n",
    "    size=len(array)\n",
    "    i=0\n",
    "    for i in range(0,size):\n",
    "        if num==array[i]:\n",
    "            break\n",
    "    array[i],array[size-1]=array[size-1],array[i]\n",
    "    array.remove(size-1)\n",
    "    \n",
    "    for i in range((len(array)//2)-1, -1, -1):\n",
    "        heapify(array,len(array),i)\n",
    "    "
   ]
  },
  {
   "cell_type": "code",
   "execution_count": 13,
   "metadata": {},
   "outputs": [],
   "source": [
    "arr=[]"
   ]
  },
  {
   "cell_type": "code",
   "execution_count": 14,
   "metadata": {},
   "outputs": [],
   "source": [
    "insert(arr,3)"
   ]
  },
  {
   "cell_type": "code",
   "execution_count": null,
   "metadata": {},
   "outputs": [],
   "source": []
  }
 ],
 "metadata": {
  "kernelspec": {
   "display_name": "Python 3",
   "language": "python",
   "name": "python3"
  },
  "language_info": {
   "codemirror_mode": {
    "name": "ipython",
    "version": 3
   },
   "file_extension": ".py",
   "mimetype": "text/x-python",
   "name": "python",
   "nbconvert_exporter": "python",
   "pygments_lexer": "ipython3",
   "version": "3.8.5"
  }
 },
 "nbformat": 4,
 "nbformat_minor": 4
}
