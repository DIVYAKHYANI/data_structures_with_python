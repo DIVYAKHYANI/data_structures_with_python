{
 "cells": [
  {
   "cell_type": "code",
   "execution_count": 54,
   "metadata": {},
   "outputs": [],
   "source": [
    "class Node(object):\n",
    "    def __init__(self,value):\n",
    "        self.value=value\n",
    "        self.left=None\n",
    "        self.right=None\n",
    "        \n",
    "    def inorder(root):\n",
    "        if root:\n",
    "            #left - root - right\n",
    "            inorder(root.left)\n",
    "            print(root.value)\n",
    "            inorder(root.right)\n",
    "    \n",
    "    def postorder(root):\n",
    "        if root:\n",
    "            #left - right - root\n",
    "            postorder(root.left)\n",
    "            postorder(root.right)\n",
    "            print(root.value)\n",
    "             \n",
    "    def preorder(root):\n",
    "        if root:\n",
    "            #root - left - right\n",
    "            print(root.value)\n",
    "            preorder(root.left)\n",
    "            preorder(root.right)\n",
    "            \n",
    "    def count_nodes(root):\n",
    "        if root is None:\n",
    "            return 0\n",
    "        return (1+ count_nodes(root.left)+ count_nodes(root.right))\n",
    "    \n",
    "    def height(root):\n",
    "        if root is None:\n",
    "            return -1\n",
    "        \n",
    "        left_height=height(root.left)\n",
    "        right_height=height(root.right)\n",
    "        \n",
    "        return (1 + max(left_height,right_height))\n",
    "    \n",
    "        \n",
    "            \n",
    "            "
   ]
  },
  {
   "cell_type": "code",
   "execution_count": 55,
   "metadata": {},
   "outputs": [],
   "source": [
    "root=Node(1)\n"
   ]
  },
  {
   "cell_type": "code",
   "execution_count": 56,
   "metadata": {},
   "outputs": [],
   "source": [
    "root.left=Node(2)"
   ]
  },
  {
   "cell_type": "code",
   "execution_count": 57,
   "metadata": {},
   "outputs": [],
   "source": [
    "root.right=Node(3)"
   ]
  },
  {
   "cell_type": "code",
   "execution_count": 58,
   "metadata": {},
   "outputs": [
    {
     "name": "stdout",
     "output_type": "stream",
     "text": [
      "2\n"
     ]
    }
   ],
   "source": [
    "print(root.left.value)"
   ]
  },
  {
   "cell_type": "code",
   "execution_count": 59,
   "metadata": {},
   "outputs": [
    {
     "name": "stdout",
     "output_type": "stream",
     "text": [
      "3\n"
     ]
    }
   ],
   "source": [
    "print(root.right.value)"
   ]
  },
  {
   "cell_type": "code",
   "execution_count": 60,
   "metadata": {},
   "outputs": [
    {
     "name": "stdout",
     "output_type": "stream",
     "text": [
      "1\n"
     ]
    }
   ],
   "source": [
    "print(root.value)"
   ]
  },
  {
   "cell_type": "code",
   "execution_count": null,
   "metadata": {},
   "outputs": [],
   "source": []
  }
 ],
 "metadata": {
  "kernelspec": {
   "display_name": "Python 3",
   "language": "python",
   "name": "python3"
  },
  "language_info": {
   "codemirror_mode": {
    "name": "ipython",
    "version": 3
   },
   "file_extension": ".py",
   "mimetype": "text/x-python",
   "name": "python",
   "nbconvert_exporter": "python",
   "pygments_lexer": "ipython3",
   "version": "3.8.5"
  }
 },
 "nbformat": 4,
 "nbformat_minor": 4
}
