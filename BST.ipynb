{
 "cells": [
  {
   "cell_type": "code",
   "execution_count": 33,
   "metadata": {},
   "outputs": [],
   "source": [
    "class Node:\n",
    "    def __init__(self,key):\n",
    "        self.key=key\n",
    "        self.left=None\n",
    "        self.right=None\n",
    "    def insert(node,key):\n",
    "        if node is None:\n",
    "            return Node(key)\n",
    "        if key<node.key:\n",
    "            print('in here left subtree')\n",
    "            node.left=Node.insert(node.left,key)\n",
    "        else:\n",
    "            print('in here right subtree')\n",
    "            node.right=Node.insert(node.right,key)\n",
    "        return node\n",
    "    def search(node,key):\n",
    "        if node is None:\n",
    "            return node\n",
    "        \n",
    "        if key==node.key:\n",
    "            return node\n",
    "        \n",
    "        if key>node.key:\n",
    "            return Node.search(node.right,key)\n",
    "        \n",
    "        if key<node.key:\n",
    "            return Node.search(node.left,key) \n",
    "        \n",
    "        #to find inorder successor\n",
    "    def minValueNode(node):\n",
    "        current=node\n",
    "        while(current.left is not None):\n",
    "            current=current.left\n",
    "        return current\n",
    "    \n",
    "        \n",
    "    \n",
    "    def deleteNode(node,key):\n",
    "        #return if the tree is empty\n",
    "        if root is None:\n",
    "            return root\n",
    "        #find the node to be deleted\n",
    "        if key<root.key:\n",
    "            root.left=deleteNode(root.left,key)\n",
    "        elif(key>root.key):\n",
    "            root.right=deleteNode(root.right,key)\n",
    "        else:\n",
    "            #if the node is with only one child or no child\n",
    "            if root.left is None:\n",
    "                temp=root.right\n",
    "                root=None\n",
    "                return temp\n",
    "            elif root.right is None:\n",
    "                temp=root.left\n",
    "                root=None\n",
    "                return temp\n",
    "            #if the node has two children\n",
    "            #place the inorder successor in position of the node to be deleted\n",
    "                temp=minValueNode(root.right)\n",
    "                root.key=temp.key\n",
    "                #delete the inorder successor\n",
    "                root.right=deleteNode(root.right,temp.key)\n",
    "            return root\n",
    "            \n",
    "                \n",
    "\n",
    "        \n",
    "    "
   ]
  },
  {
   "cell_type": "code",
   "execution_count": 34,
   "metadata": {},
   "outputs": [],
   "source": [
    "root=None\n",
    "\n"
   ]
  },
  {
   "cell_type": "code",
   "execution_count": 35,
   "metadata": {},
   "outputs": [],
   "source": [
    "root=Node.insert(root,12)"
   ]
  },
  {
   "cell_type": "code",
   "execution_count": 36,
   "metadata": {},
   "outputs": [
    {
     "name": "stdout",
     "output_type": "stream",
     "text": [
      "in here left subtree\n"
     ]
    }
   ],
   "source": [
    "root=Node.insert(root,6)"
   ]
  },
  {
   "cell_type": "code",
   "execution_count": 37,
   "metadata": {},
   "outputs": [
    {
     "name": "stdout",
     "output_type": "stream",
     "text": [
      "in here right subtree\n"
     ]
    }
   ],
   "source": [
    "root=Node.insert(root,20)"
   ]
  },
  {
   "cell_type": "code",
   "execution_count": 38,
   "metadata": {},
   "outputs": [
    {
     "name": "stdout",
     "output_type": "stream",
     "text": [
      "in here left subtree\n",
      "in here left subtree\n"
     ]
    }
   ],
   "source": [
    "root=Node.insert(root,2)"
   ]
  },
  {
   "cell_type": "code",
   "execution_count": 39,
   "metadata": {},
   "outputs": [
    {
     "name": "stdout",
     "output_type": "stream",
     "text": [
      "in here right subtree\n",
      "in here right subtree\n"
     ]
    }
   ],
   "source": [
    "root=Node.insert(root,26)"
   ]
  },
  {
   "cell_type": "code",
   "execution_count": 40,
   "metadata": {},
   "outputs": [],
   "source": [
    "s=Node.search(root,20)"
   ]
  },
  {
   "cell_type": "code",
   "execution_count": 41,
   "metadata": {},
   "outputs": [
    {
     "name": "stdout",
     "output_type": "stream",
     "text": [
      "<__main__.Node object at 0x000002547E5BD3A0>\n"
     ]
    }
   ],
   "source": [
    "print(s)"
   ]
  },
  {
   "cell_type": "code",
   "execution_count": 42,
   "metadata": {},
   "outputs": [],
   "source": [
    "srch=Node.search(root,5)"
   ]
  },
  {
   "cell_type": "code",
   "execution_count": 43,
   "metadata": {},
   "outputs": [
    {
     "name": "stdout",
     "output_type": "stream",
     "text": [
      "None\n"
     ]
    }
   ],
   "source": [
    "print(srch)"
   ]
  },
  {
   "cell_type": "code",
   "execution_count": null,
   "metadata": {},
   "outputs": [],
   "source": []
  }
 ],
 "metadata": {
  "kernelspec": {
   "display_name": "Python 3",
   "language": "python",
   "name": "python3"
  },
  "language_info": {
   "codemirror_mode": {
    "name": "ipython",
    "version": 3
   },
   "file_extension": ".py",
   "mimetype": "text/x-python",
   "name": "python",
   "nbconvert_exporter": "python",
   "pygments_lexer": "ipython3",
   "version": "3.8.5"
  }
 },
 "nbformat": 4,
 "nbformat_minor": 4
}
