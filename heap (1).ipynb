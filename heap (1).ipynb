{
 "cells": [
  {
   "cell_type": "code",
   "execution_count": 20,
   "metadata": {},
   "outputs": [],
   "source": [
    "#Max heap data structures in python \n",
    "def heapify(arr, n, i):\n",
    "    largest=i\n",
    "    l=2*i+1 #left\n",
    "    r=2*i+2 #right\n",
    "    if l < n and arr[i] < arr[l]:\n",
    "        largest=1\n",
    "    if r < n and arr[largest] < arr[r]:\n",
    "        largest=r\n",
    "    if largest != i:\n",
    "        arr[i],arr[largest]=arr[largest],arr[i]\n",
    "        heapify(arr,n,largest)\n",
    "        \n",
    "def insert (array, newNum):\n",
    "    size=len(array)\n",
    "    if size == 0:\n",
    "        array.append(newNum)\n",
    "    \n",
    "    else:\n",
    "        array.append(newNum)\n",
    "        for i in range((size//2)-1,-1,-1):\n",
    "            heapify(array, size, i)"
   ]
  },
  {
   "cell_type": "code",
   "execution_count": 21,
   "metadata": {},
   "outputs": [],
   "source": [
    "arr=[]"
   ]
  },
  {
   "cell_type": "code",
   "execution_count": 22,
   "metadata": {},
   "outputs": [],
   "source": [
    "insert(arr,3)"
   ]
  },
  {
   "cell_type": "code",
   "execution_count": 23,
   "metadata": {},
   "outputs": [],
   "source": [
    "insert(arr,4)"
   ]
  },
  {
   "cell_type": "code",
   "execution_count": 24,
   "metadata": {},
   "outputs": [],
   "source": [
    "insert(arr,150)"
   ]
  },
  {
   "cell_type": "code",
   "execution_count": 25,
   "metadata": {},
   "outputs": [],
   "source": [
    "insert(arr,9)"
   ]
  },
  {
   "cell_type": "code",
   "execution_count": 26,
   "metadata": {},
   "outputs": [],
   "source": [
    "insert(arr,5)"
   ]
  },
  {
   "cell_type": "code",
   "execution_count": 27,
   "metadata": {},
   "outputs": [],
   "source": [
    "insert(arr,2)"
   ]
  },
  {
   "cell_type": "code",
   "execution_count": 28,
   "metadata": {},
   "outputs": [
    {
     "name": "stdout",
     "output_type": "stream",
     "text": [
      "Max Heap array: [150, 5, 4, 9, 3, 2]\n"
     ]
    }
   ],
   "source": [
    "print(\"Max Heap array: \"+str(arr))"
   ]
  },
  {
   "cell_type": "code",
   "execution_count": 34,
   "metadata": {},
   "outputs": [],
   "source": [
    "def deleteNode(array,num):\n",
    "    size=len(array)\n",
    "    i=0\n",
    "    for i in range(0,size):\n",
    "        if num == array[i]:\n",
    "            break\n",
    "    array[i],array[size-1] = array[size-1],array[i]\n",
    "    array.remove(size-1)\n",
    "    for i in range((len(array)//2)-1, -1, -1):\n",
    "        heapify(array, len(array), i)"
   ]
  },
  {
   "cell_type": "code",
   "execution_count": 35,
   "metadata": {},
   "outputs": [],
   "source": [
    "deleteNode(arr,5)"
   ]
  },
  {
   "cell_type": "code",
   "execution_count": 36,
   "metadata": {},
   "outputs": [
    {
     "name": "stdout",
     "output_type": "stream",
     "text": [
      "After deleting an element: [150, 3, 4, 9, 2]\n"
     ]
    }
   ],
   "source": [
    "print(\"After deleting an element: \" + str(arr))"
   ]
  },
  {
   "cell_type": "code",
   "execution_count": 37,
   "metadata": {},
   "outputs": [],
   "source": [
    "#the main function to sort an array of given size:\n",
    "def heapSort(arr):\n",
    "    n=len(arr)\n",
    "    \n",
    "    #Build a maxheap\n",
    "    #Since last parent will be at ((n//2)-1) we can start at that location\n",
    "    for i in range(n//2 - 1, -1, -1):\n",
    "        heapify(arr, n, i)\n",
    "        \n",
    "    #one by one extract elements\n",
    "    for i in range(n-1, 0, -1):\n",
    "        arr[i],arr[0] = arr[0],arr[i]\n",
    "        heapify(arr, i, 0)"
   ]
  },
  {
   "cell_type": "code",
   "execution_count": 38,
   "metadata": {},
   "outputs": [],
   "source": [
    "#Driver code to test above\n",
    "arr1=[35,78,458,-8,0,47]"
   ]
  },
  {
   "cell_type": "code",
   "execution_count": 45,
   "metadata": {},
   "outputs": [],
   "source": [
    "heapSort(arr1)"
   ]
  },
  {
   "cell_type": "code",
   "execution_count": 46,
   "metadata": {},
   "outputs": [],
   "source": [
    "n1=len(arr1)"
   ]
  },
  {
   "cell_type": "code",
   "execution_count": 47,
   "metadata": {},
   "outputs": [
    {
     "name": "stdout",
     "output_type": "stream",
     "text": [
      " -8  0  35  47  78  458 "
     ]
    }
   ],
   "source": [
    "for j in range(n1):\n",
    "    print(\" %d \" %arr1[j],end='')"
   ]
  },
  {
   "cell_type": "code",
   "execution_count": null,
   "metadata": {},
   "outputs": [],
   "source": []
  }
 ],
 "metadata": {
  "kernelspec": {
   "display_name": "Python 3",
   "language": "python",
   "name": "python3"
  },
  "language_info": {
   "codemirror_mode": {
    "name": "ipython",
    "version": 3
   },
   "file_extension": ".py",
   "mimetype": "text/x-python",
   "name": "python",
   "nbconvert_exporter": "python",
   "pygments_lexer": "ipython3",
   "version": "3.8.5"
  }
 },
 "nbformat": 4,
 "nbformat_minor": 4
}
