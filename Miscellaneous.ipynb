{
 "cells": [
  {
   "cell_type": "code",
   "execution_count": 1,
   "metadata": {},
   "outputs": [],
   "source": [
    "#Lambda Function[can take any number of arguments but can only have one expression "
   ]
  },
  {
   "cell_type": "code",
   "execution_count": 2,
   "metadata": {},
   "outputs": [
    {
     "name": "stdout",
     "output_type": "stream",
     "text": [
      "3\n"
     ]
    }
   ],
   "source": [
    "#single argument\n",
    "x=lambda a:a+1\n",
    "print(x(2))"
   ]
  },
  {
   "cell_type": "code",
   "execution_count": 3,
   "metadata": {},
   "outputs": [
    {
     "name": "stdout",
     "output_type": "stream",
     "text": [
      "13\n"
     ]
    }
   ],
   "source": [
    "#multiple arguments\n",
    "ans=lambda a,b,c:a+b+c\n",
    "print(ans(5,6,2))"
   ]
  },
  {
   "cell_type": "code",
   "execution_count": 4,
   "metadata": {},
   "outputs": [],
   "source": [
    "#Function to print all sublists\n",
    "def printallSublists(A):\n",
    "    \n",
    "    #consider all sublists starting from i\n",
    "    for i in range(len(A)):\n",
    "        #consider all sublists ending at 'j'\n",
    "        for j in range(i ,len(A)):\n",
    "            print(A[i:j+1]) #slicing in python"
   ]
  },
  {
   "cell_type": "code",
   "execution_count": 5,
   "metadata": {},
   "outputs": [],
   "source": [
    "A=[1,2,3,4,5]"
   ]
  },
  {
   "cell_type": "code",
   "execution_count": 6,
   "metadata": {},
   "outputs": [
    {
     "name": "stdout",
     "output_type": "stream",
     "text": [
      "[1]\n",
      "[1, 2]\n",
      "[1, 2, 3]\n",
      "[1, 2, 3, 4]\n",
      "[1, 2, 3, 4, 5]\n",
      "[2]\n",
      "[2, 3]\n",
      "[2, 3, 4]\n",
      "[2, 3, 4, 5]\n",
      "[3]\n",
      "[3, 4]\n",
      "[3, 4, 5]\n",
      "[4]\n",
      "[4, 5]\n",
      "[5]\n"
     ]
    }
   ],
   "source": [
    "printallSublists(A)"
   ]
  },
  {
   "cell_type": "code",
   "execution_count": 10,
   "metadata": {},
   "outputs": [],
   "source": [
    "#Function to print all substrings\n",
    "def printallSubStrings(str):\n",
    "    \n",
    "    #consider all substrings starting from i\n",
    "    for i in range(len(str)):\n",
    "        #consider all substrings ending at 'j'\n",
    "        for j in range(i ,len(str)):\n",
    "            print(str[i:j+1],end=' ') #slicing in python"
   ]
  },
  {
   "cell_type": "code",
   "execution_count": 11,
   "metadata": {},
   "outputs": [],
   "source": [
    "str=\"python\""
   ]
  },
  {
   "cell_type": "code",
   "execution_count": 12,
   "metadata": {},
   "outputs": [
    {
     "name": "stdout",
     "output_type": "stream",
     "text": [
      "p py pyt pyth pytho python y yt yth ytho ython t th tho thon h ho hon o on n "
     ]
    }
   ],
   "source": [
    "printallSubStrings(str)"
   ]
  },
  {
   "cell_type": "code",
   "execution_count": 13,
   "metadata": {},
   "outputs": [],
   "source": [
    "#Function to print subsequences\n",
    "def printSubSequences(STR, subSTR=\"\"):\n",
    "    \"\"\"\n",
    "    function:to print all subsequences of string\n",
    "    concept:Pick and Don't pick\n",
    "    variables: STR=string, subSTR=to store subsequences\n",
    "    \n",
    "    \"\"\"\n",
    "    if len(STR)==0:\n",
    "        print(subSTR,end=\" \")\n",
    "        return\n",
    "    #we add 1st character in string\n",
    "    printSubSequences(STR[:-1],subSTR+STR[-1])\n",
    "    \"\"\"\n",
    "    Not adding first character of string because \n",
    "    the concept of subsequence either character will present or not\n",
    "    \"\"\"\n",
    "    printSubSequences(STR[:-1],subSTR)\n",
    "    return"
   ]
  },
  {
   "cell_type": "code",
   "execution_count": 14,
   "metadata": {},
   "outputs": [],
   "source": [
    "STR=\"abc\""
   ]
  },
  {
   "cell_type": "code",
   "execution_count": 15,
   "metadata": {},
   "outputs": [
    {
     "name": "stdout",
     "output_type": "stream",
     "text": [
      "cba cb ca c ba b a  "
     ]
    }
   ],
   "source": [
    "printSubSequences(STR)"
   ]
  },
  {
   "cell_type": "code",
   "execution_count": 19,
   "metadata": {},
   "outputs": [],
   "source": [
    "import math; \n",
    "\n",
    "def printPowerSet(set,set_size): \n",
    "    # set_size of power set of a set \n",
    "    # with set_size n is (2**n -1) \n",
    "    pow_set_size = (int) (math.pow(2, set_size)) \n",
    "    counter = 0 \n",
    "    j = 0 \n",
    "    \n",
    "    # Run from counter 000..0 to 111..1 \n",
    "    for counter in range(0, pow_set_size): \n",
    "        for j in range(0, set_size): \n",
    "        # Check if jth bit in the \n",
    "        # counter is set If set then \n",
    "        # print jth element from set \n",
    "            if((counter & (1 << j)) > 0): \n",
    "                print(set[j], end = \"\") \n",
    "        print(\"\")\n"
   ]
  },
  {
   "cell_type": "code",
   "execution_count": 20,
   "metadata": {},
   "outputs": [],
   "source": [
    "set=['a','b','c']"
   ]
  },
  {
   "cell_type": "code",
   "execution_count": 21,
   "metadata": {},
   "outputs": [
    {
     "name": "stdout",
     "output_type": "stream",
     "text": [
      "\n",
      "a\n",
      "b\n",
      "ab\n",
      "c\n",
      "ac\n",
      "bc\n",
      "abc\n"
     ]
    }
   ],
   "source": [
    "printPowerSet(set,3)\n"
   ]
  },
  {
   "cell_type": "code",
   "execution_count": 22,
   "metadata": {},
   "outputs": [],
   "source": [
    "#SORT A list"
   ]
  },
  {
   "cell_type": "code",
   "execution_count": 23,
   "metadata": {},
   "outputs": [],
   "source": [
    "lst=[1,33,-2,0,91]"
   ]
  },
  {
   "cell_type": "code",
   "execution_count": 24,
   "metadata": {},
   "outputs": [],
   "source": [
    "lst.sort()"
   ]
  },
  {
   "cell_type": "code",
   "execution_count": 25,
   "metadata": {},
   "outputs": [
    {
     "name": "stdout",
     "output_type": "stream",
     "text": [
      "sorted list is: [-2, 0, 1, 33, 91]\n"
     ]
    }
   ],
   "source": [
    "print(\"sorted list is:\",lst)"
   ]
  },
  {
   "cell_type": "code",
   "execution_count": 36,
   "metadata": {},
   "outputs": [],
   "source": [
    "lst.sort(reverse=True)"
   ]
  },
  {
   "cell_type": "code",
   "execution_count": 37,
   "metadata": {},
   "outputs": [
    {
     "name": "stdout",
     "output_type": "stream",
     "text": [
      "sorted list is: [91, 33, 1, 0, -2]\n"
     ]
    }
   ],
   "source": [
    "print(\"sorted list is:\",lst)"
   ]
  },
  {
   "cell_type": "code",
   "execution_count": 26,
   "metadata": {},
   "outputs": [],
   "source": [
    "#Sort a tuple"
   ]
  },
  {
   "cell_type": "code",
   "execution_count": 27,
   "metadata": {},
   "outputs": [],
   "source": [
    "sol=(9,2021,-2,0)"
   ]
  },
  {
   "cell_type": "code",
   "execution_count": 28,
   "metadata": {},
   "outputs": [
    {
     "name": "stdout",
     "output_type": "stream",
     "text": [
      "sorted tuple is: (-2, 0, 9, 2021)\n"
     ]
    }
   ],
   "source": [
    "print(\"sorted tuple is:\",tuple(sorted(sol)))"
   ]
  },
  {
   "cell_type": "code",
   "execution_count": 29,
   "metadata": {},
   "outputs": [],
   "source": [
    "#sort dict by values and keys"
   ]
  },
  {
   "cell_type": "code",
   "execution_count": 30,
   "metadata": {},
   "outputs": [],
   "source": [
    "maps={'z':1,'b':3,'c':0,'d':5,'a':22}"
   ]
  },
  {
   "cell_type": "code",
   "execution_count": 31,
   "metadata": {},
   "outputs": [
    {
     "name": "stdout",
     "output_type": "stream",
     "text": [
      "sorted dict is: \n"
     ]
    }
   ],
   "source": [
    "print(\"sorted dict is: \")"
   ]
  },
  {
   "cell_type": "code",
   "execution_count": 32,
   "metadata": {},
   "outputs": [],
   "source": [
    "ansv=sorted(maps.values())"
   ]
  },
  {
   "cell_type": "code",
   "execution_count": 33,
   "metadata": {},
   "outputs": [],
   "source": [
    "ansk=sorted(maps.keys())"
   ]
  },
  {
   "cell_type": "code",
   "execution_count": 34,
   "metadata": {},
   "outputs": [
    {
     "name": "stdout",
     "output_type": "stream",
     "text": [
      "by values: [0, 1, 3, 5, 22]\n"
     ]
    }
   ],
   "source": [
    "print(\"by values:\",ansv)"
   ]
  },
  {
   "cell_type": "code",
   "execution_count": 35,
   "metadata": {},
   "outputs": [
    {
     "name": "stdout",
     "output_type": "stream",
     "text": [
      "by keys: ['a', 'b', 'c', 'd', 'z']\n"
     ]
    }
   ],
   "source": [
    "print(\"by keys:\",ansk)"
   ]
  },
  {
   "cell_type": "code",
   "execution_count": 38,
   "metadata": {},
   "outputs": [],
   "source": [
    "#Default Dictionary"
   ]
  },
  {
   "cell_type": "code",
   "execution_count": 39,
   "metadata": {},
   "outputs": [],
   "source": [
    "from collections import defaultdict"
   ]
  },
  {
   "cell_type": "code",
   "execution_count": 46,
   "metadata": {},
   "outputs": [],
   "source": [
    "dd=defaultdict(lambda:0)#0 is the default value"
   ]
  },
  {
   "cell_type": "code",
   "execution_count": 47,
   "metadata": {},
   "outputs": [],
   "source": [
    "normal_d={1:'a',2:'b',3:'c'}\n"
   ]
  },
  {
   "cell_type": "code",
   "execution_count": 48,
   "metadata": {},
   "outputs": [],
   "source": [
    "for i in range(5):\n",
    "    dd[i]"
   ]
  },
  {
   "cell_type": "code",
   "execution_count": 49,
   "metadata": {},
   "outputs": [
    {
     "name": "stdout",
     "output_type": "stream",
     "text": [
      "0\n"
     ]
    }
   ],
   "source": [
    "print(dd[100])"
   ]
  },
  {
   "cell_type": "code",
   "execution_count": 50,
   "metadata": {},
   "outputs": [
    {
     "ename": "KeyError",
     "evalue": "10",
     "output_type": "error",
     "traceback": [
      "\u001b[1;31m---------------------------------------------------------------------------\u001b[0m",
      "\u001b[1;31mKeyError\u001b[0m                                  Traceback (most recent call last)",
      "\u001b[1;32m<ipython-input-50-6f7892df64a8>\u001b[0m in \u001b[0;36m<module>\u001b[1;34m\u001b[0m\n\u001b[1;32m----> 1\u001b[1;33m \u001b[0mprint\u001b[0m\u001b[1;33m(\u001b[0m\u001b[0mnormal_d\u001b[0m\u001b[1;33m[\u001b[0m\u001b[1;36m10\u001b[0m\u001b[1;33m]\u001b[0m\u001b[1;33m)\u001b[0m\u001b[1;33m\u001b[0m\u001b[1;33m\u001b[0m\u001b[0m\n\u001b[0m",
      "\u001b[1;31mKeyError\u001b[0m: 10"
     ]
    }
   ],
   "source": [
    "print(normal_d[10])"
   ]
  },
  {
   "cell_type": "code",
   "execution_count": 45,
   "metadata": {},
   "outputs": [
    {
     "name": "stdout",
     "output_type": "stream",
     "text": [
      "a\n"
     ]
    }
   ],
   "source": [
    "print(normal_d[1])"
   ]
  },
  {
   "cell_type": "code",
   "execution_count": 52,
   "metadata": {},
   "outputs": [],
   "source": [
    "#Deque"
   ]
  },
  {
   "cell_type": "code",
   "execution_count": 53,
   "metadata": {},
   "outputs": [],
   "source": [
    "from collections import deque"
   ]
  },
  {
   "cell_type": "code",
   "execution_count": 78,
   "metadata": {},
   "outputs": [],
   "source": [
    "#initializing deque\n",
    "de=deque([1,2,3])"
   ]
  },
  {
   "cell_type": "code",
   "execution_count": 79,
   "metadata": {},
   "outputs": [
    {
     "name": "stdout",
     "output_type": "stream",
     "text": [
      "Initial Deque\n"
     ]
    }
   ],
   "source": [
    "print('Initial Deque')"
   ]
  },
  {
   "cell_type": "code",
   "execution_count": 80,
   "metadata": {},
   "outputs": [
    {
     "name": "stdout",
     "output_type": "stream",
     "text": [
      "deque([1, 2, 3])\n"
     ]
    }
   ],
   "source": [
    "print(de)"
   ]
  },
  {
   "cell_type": "code",
   "execution_count": 81,
   "metadata": {},
   "outputs": [],
   "source": [
    "#using append() to insert element at right end\n",
    "de.append(4)"
   ]
  },
  {
   "cell_type": "code",
   "execution_count": 82,
   "metadata": {},
   "outputs": [
    {
     "name": "stdout",
     "output_type": "stream",
     "text": [
      "the deque after appending at the right is: deque([1, 2, 3, 4])\n"
     ]
    }
   ],
   "source": [
    "print(\"the deque after appending at the right is:\", de)"
   ]
  },
  {
   "cell_type": "code",
   "execution_count": 83,
   "metadata": {},
   "outputs": [],
   "source": [
    "#using appendleft() to insert element at the left end.\n",
    "de.appendleft(0)"
   ]
  },
  {
   "cell_type": "code",
   "execution_count": 84,
   "metadata": {},
   "outputs": [
    {
     "name": "stdout",
     "output_type": "stream",
     "text": [
      "the deque after appending at the left is: deque([0, 1, 2, 3, 4])\n"
     ]
    }
   ],
   "source": [
    "print(\"the deque after appending at the left is:\", de)"
   ]
  },
  {
   "cell_type": "code",
   "execution_count": 85,
   "metadata": {},
   "outputs": [
    {
     "data": {
      "text/plain": [
       "4"
      ]
     },
     "execution_count": 85,
     "metadata": {},
     "output_type": "execute_result"
    }
   ],
   "source": [
    "de.pop()"
   ]
  },
  {
   "cell_type": "code",
   "execution_count": 86,
   "metadata": {},
   "outputs": [
    {
     "name": "stdout",
     "output_type": "stream",
     "text": [
      "the deque after pop is:  deque([0, 1, 2, 3])\n"
     ]
    }
   ],
   "source": [
    "print(\"the deque after pop is: \",de)"
   ]
  },
  {
   "cell_type": "code",
   "execution_count": 87,
   "metadata": {},
   "outputs": [],
   "source": [
    "#using insert() to insert the value 4 at 5th position\n",
    "de.insert(5,4)"
   ]
  },
  {
   "cell_type": "code",
   "execution_count": 88,
   "metadata": {},
   "outputs": [
    {
     "name": "stdout",
     "output_type": "stream",
     "text": [
      "The deque after inserting is:  deque([0, 1, 2, 3, 4])\n"
     ]
    }
   ],
   "source": [
    "print(\"The deque after inserting is: \",de)"
   ]
  },
  {
   "cell_type": "code",
   "execution_count": 89,
   "metadata": {},
   "outputs": [
    {
     "data": {
      "text/plain": [
       "0"
      ]
     },
     "execution_count": 89,
     "metadata": {},
     "output_type": "execute_result"
    }
   ],
   "source": [
    "#using popleft() to delete element from the left\n",
    "de.popleft()"
   ]
  },
  {
   "cell_type": "code",
   "execution_count": 90,
   "metadata": {},
   "outputs": [
    {
     "name": "stdout",
     "output_type": "stream",
     "text": [
      "the deque after removing element from left end:  deque([1, 2, 3, 4])\n"
     ]
    }
   ],
   "source": [
    "print(\"the deque after removing element from left end: \",de)"
   ]
  },
  {
   "cell_type": "code",
   "execution_count": 91,
   "metadata": {},
   "outputs": [],
   "source": [
    "#using extend() to add numbers to right end adds 5,6 to the right end\n",
    "de.extend([5,6])"
   ]
  },
  {
   "cell_type": "code",
   "execution_count": 92,
   "metadata": {},
   "outputs": [
    {
     "name": "stdout",
     "output_type": "stream",
     "text": [
      "The deque after extending deque at the end is:  deque([1, 2, 3, 4, 5, 6])\n"
     ]
    }
   ],
   "source": [
    "print(\"The deque after extending deque at the end is: \",de)"
   ]
  },
  {
   "cell_type": "code",
   "execution_count": 93,
   "metadata": {},
   "outputs": [],
   "source": [
    "#Heapq module"
   ]
  },
  {
   "cell_type": "code",
   "execution_count": 94,
   "metadata": {},
   "outputs": [],
   "source": [
    "import heapq"
   ]
  },
  {
   "cell_type": "code",
   "execution_count": 99,
   "metadata": {},
   "outputs": [
    {
     "name": "stdout",
     "output_type": "stream",
     "text": [
      "initial list li is: [5, 7, 9, 1, 3]\n"
     ]
    }
   ],
   "source": [
    "#initializing list\n",
    "li=[5,7,9,1,3]\n",
    "print(\"initial list li is:\",li)"
   ]
  },
  {
   "cell_type": "code",
   "execution_count": 100,
   "metadata": {},
   "outputs": [
    {
     "name": "stdout",
     "output_type": "stream",
     "text": [
      "the created heap is:  [1, 3, 9, 7, 5]\n"
     ]
    }
   ],
   "source": [
    "#using heapify to convert list into heap\n",
    "heapq.heapify(li)\n",
    "print(\"the created heap is: \",end=\" \")\n",
    "print(list(li))"
   ]
  },
  {
   "cell_type": "code",
   "execution_count": 101,
   "metadata": {},
   "outputs": [
    {
     "name": "stdout",
     "output_type": "stream",
     "text": [
      "the modified heap after the push is:  [1, 3, 4, 7, 5, 9]\n"
     ]
    }
   ],
   "source": [
    "#using heappush() to push elements into the heap\n",
    "heapq.heappush(li,4)\n",
    "print(\"the modified heap after the push is: \",end=\" \")\n",
    "print(list(li))"
   ]
  },
  {
   "cell_type": "code",
   "execution_count": 102,
   "metadata": {},
   "outputs": [
    {
     "name": "stdout",
     "output_type": "stream",
     "text": [
      "the popend and smallest element is:  1\n"
     ]
    }
   ],
   "source": [
    "#using heappop() to pop smallest element\n",
    "print(\"the popend and smallest element is: \",end=\" \")\n",
    "print(heapq.heappop(li))"
   ]
  },
  {
   "cell_type": "code",
   "execution_count": 103,
   "metadata": {},
   "outputs": [
    {
     "name": "stdout",
     "output_type": "stream",
     "text": [
      "the modified heap is:  [3, 5, 4, 7, 9]\n"
     ]
    }
   ],
   "source": [
    "print(\"the modified heap is: \",list(li))"
   ]
  },
  {
   "cell_type": "code",
   "execution_count": 108,
   "metadata": {},
   "outputs": [],
   "source": [
    "#Maze Problem \n",
    "count=0\n",
    "\n",
    "def maze(i,j,n,m,osf):\n",
    "    global count\n",
    "    if i==n-1 and j==m-1:\n",
    "        print(osf)\n",
    "        count+=1\n",
    "        return\n",
    "    \n",
    "    if i>=n or j>=m:\n",
    "        return\n",
    "    \n",
    "    maze(i,j+1,n,m,osf+'R')\n",
    "    maze(i+1,j,n,m,osf+'D')"
   ]
  },
  {
   "cell_type": "code",
   "execution_count": 109,
   "metadata": {},
   "outputs": [
    {
     "name": "stdout",
     "output_type": "stream",
     "text": [
      "RRDD\n",
      "RDRD\n",
      "RDDR\n",
      "DRRD\n",
      "DRDR\n",
      "DDRR\n"
     ]
    }
   ],
   "source": [
    "maze(0,0,3,3,'')"
   ]
  },
  {
   "cell_type": "code",
   "execution_count": 110,
   "metadata": {},
   "outputs": [
    {
     "name": "stdout",
     "output_type": "stream",
     "text": [
      "6\n"
     ]
    }
   ],
   "source": [
    "print(count)"
   ]
  },
  {
   "cell_type": "code",
   "execution_count": null,
   "metadata": {},
   "outputs": [],
   "source": []
  }
 ],
 "metadata": {
  "kernelspec": {
   "display_name": "Python 3",
   "language": "python",
   "name": "python3"
  },
  "language_info": {
   "codemirror_mode": {
    "name": "ipython",
    "version": 3
   },
   "file_extension": ".py",
   "mimetype": "text/x-python",
   "name": "python",
   "nbconvert_exporter": "python",
   "pygments_lexer": "ipython3",
   "version": "3.8.5"
  }
 },
 "nbformat": 4,
 "nbformat_minor": 4
}
