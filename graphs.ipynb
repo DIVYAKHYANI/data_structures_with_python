{
 "cells": [
  {
   "cell_type": "code",
   "execution_count": 5,
   "metadata": {},
   "outputs": [],
   "source": [
    "#Adjacency Matrix representation in python\n",
    "class Graph(object):\n",
    "    \n",
    "    #initialize the matrix\n",
    "    def __init__(self,size):\n",
    "        self.adjMatrix=[]\n",
    "        self.size=size\n",
    "        for i in range(size):\n",
    "            self.adjMatrix.append([0 for i in range(size)])\n",
    "    \n",
    "    def __len__(self):\n",
    "        return self.size\n",
    "    \n",
    "    #print the matrix\n",
    "    def print_matrix(self):\n",
    "        for row in self.adjMatrix:\n",
    "            for val in row:\n",
    "                print('{:4}'.format(val),end=''),\n",
    "            print()\n",
    "            \n",
    "    def add_edge(self,v1,v2):\n",
    "        if v1==v2:\n",
    "            print(\"same vertex %d and %d\" %(v1,v2))\n",
    "        self.adjMatrix[v1][v2]=1\n",
    "        \n",
    "    def remove_edge(self, v1, v2):\n",
    "        if self.adjMatrix[v1][v2]==0:\n",
    "            print(\"no edge between %d and %d\" %(v1, v2))\n",
    "            return\n",
    "        self.adjMatrix[v1][v2]=0\n",
    " \n",
    "  \n",
    "        \n",
    "        "
   ]
  },
  {
   "cell_type": "code",
   "execution_count": 8,
   "metadata": {},
   "outputs": [],
   "source": [
    "           \n",
    "def main():\n",
    "    g=Graph(5)\n",
    "    g.add_edge(0,1)\n",
    "    g.add_edge(0,2)\n",
    "    g.add_edge(1,2)\n",
    "    g.add_edge(2,0)\n",
    "    g.add_edge(2,3)\n",
    "    \n",
    "    g.remove_edge(2,3)\n",
    "    \n",
    "    \n",
    "    g.print_matrix()"
   ]
  },
  {
   "cell_type": "code",
   "execution_count": 9,
   "metadata": {},
   "outputs": [
    {
     "name": "stdout",
     "output_type": "stream",
     "text": [
      "   0   1   1   0   0\n",
      "   0   0   1   0   0\n",
      "   1   0   0   0   0\n",
      "   0   0   0   0   0\n",
      "   0   0   0   0   0\n"
     ]
    }
   ],
   "source": [
    "if __name__=='__main__':\n",
    "    main()"
   ]
  },
  {
   "cell_type": "code",
   "execution_count": null,
   "metadata": {},
   "outputs": [],
   "source": []
  }
 ],
 "metadata": {
  "kernelspec": {
   "display_name": "Python 3",
   "language": "python",
   "name": "python3"
  },
  "language_info": {
   "codemirror_mode": {
    "name": "ipython",
    "version": 3
   },
   "file_extension": ".py",
   "mimetype": "text/x-python",
   "name": "python",
   "nbconvert_exporter": "python",
   "pygments_lexer": "ipython3",
   "version": "3.8.5"
  }
 },
 "nbformat": 4,
 "nbformat_minor": 4
}
